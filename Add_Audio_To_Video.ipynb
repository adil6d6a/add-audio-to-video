{
  "nbformat": 4,
  "nbformat_minor": 0,
  "metadata": {
    "colab": {
      "provenance": []
    },
    "kernelspec": {
      "name": "python3",
      "display_name": "Python 3"
    },
    "language_info": {
      "name": "python"
    }
  },
  "cells": [
    {
      "cell_type": "code",
      "execution_count": null,
      "metadata": {
        "id": "DhQ8cMb6Eyxu"
      },
      "outputs": [],
      "source": [
        "!pip install moviepy\n",
        "from moviepy.editor import *"
      ]
    },
    {
      "cell_type": "code",
      "source": [
        "from google.colab import drive\n",
        "drive.mount('/content/drive')\n"
      ],
      "metadata": {
        "id": "ccg2XrSxE4Dn"
      },
      "execution_count": null,
      "outputs": []
    },
    {
      "cell_type": "code",
      "source": [
        "video = VideoFileClip(\"/content/drive/MyDrive/path/to/video.mp4\")\n",
        "audio = AudioFileClip(\"/content/drive/MyDrive/path/to/audio.mp3\")\n",
        "final_video = video.set_audio(audio)\n",
        "final_video.write_videofile(\"/content/drive/MyDrive/path/to/output.mp4\")\n"
      ],
      "metadata": {
        "id": "93QQh8lUE8GP"
      },
      "execution_count": null,
      "outputs": []
    }
  ]
}